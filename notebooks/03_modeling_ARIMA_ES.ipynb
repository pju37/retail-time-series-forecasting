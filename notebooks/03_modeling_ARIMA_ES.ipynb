{
 "cells": [
  {
   "cell_type": "code",
   "execution_count": 0,
   "metadata": {
    "application/vnd.databricks.v1+cell": {
     "cellMetadata": {},
     "inputWidgets": {},
     "nuid": "dacde116-a8f9-4796-ba96-e2343b261a36",
     "showTitle": false,
     "tableResultSettingsMap": {},
     "title": ""
    }
   },
   "outputs": [],
   "source": [
    "# Core\n",
    "import pandas as pd\n",
    "import numpy as np\n",
    "import matplotlib.pyplot as plt\n",
    "import seaborn as sns\n",
    "\n",
    "# Forecasting libs\n",
    "from statsforecast import StatsForecast\n",
    "from statsforecast.models import Naive, HistoricAverage, WindowAverage, SeasonalNaive\n",
    "from statsmodels.tsa.statespace.sarimax import SARIMAX\n",
    "from statsforecast.models import AutoARIMA\n",
    "from statsmodels.tsa.holtwinters import ExponentialSmoothing\n",
    "from utilsforecast.plotting import plot_series\n",
    "from utilsforecast.evaluation import evaluate\n",
    "from utilsforecast.losses import *\n",
    "\n",
    "from functools import partial\n",
    "from utilsforecast.feature_engineering import fourier, time_features, pipeline\n",
    "\n",
    "# Evaluation\n",
    "from sklearn.metrics import mean_absolute_percentage_error, mean_squared_error\n",
    "from math import sqrt\n",
    "\n",
    "# Utility\n",
    "import warnings\n",
    "warnings.filterwarnings('ignore')"
   ]
  },
  {
   "cell_type": "markdown",
   "metadata": {
    "application/vnd.databricks.v1+cell": {
     "cellMetadata": {},
     "inputWidgets": {},
     "nuid": "72d09ed4-95bb-4330-bdaf-b6c17f6d8395",
     "showTitle": false,
     "tableResultSettingsMap": {},
     "title": ""
    }
   },
   "source": [
    "### AutoARIMA\n"
   ]
  },
  {
   "cell_type": "markdown",
   "metadata": {
    "application/vnd.databricks.v1+cell": {
     "cellMetadata": {},
     "inputWidgets": {},
     "nuid": "8b7570b0-480f-4d8f-98ec-acddc74b9d2d",
     "showTitle": false,
     "tableResultSettingsMap": {},
     "title": ""
    }
   },
   "source": [
    "## Forecasting with time + exogenous features\n"
   ]
  },
  {
   "cell_type": "code",
   "execution_count": 0,
   "metadata": {
    "application/vnd.databricks.v1+cell": {
     "cellMetadata": {},
     "inputWidgets": {},
     "nuid": "47abf7b3-66d1-4227-ad5f-4ca918ecb04a",
     "showTitle": false,
     "tableResultSettingsMap": {},
     "title": ""
    }
   },
   "outputs": [],
   "source": [
    "data_path = \"/Users/pju307/retail-forecasting/data/sales_data.csv\"\n",
    "df = pd.read_csv(data_path, parse_dates=['Date'])\n",
    "df = df[df.duplicated(subset=[\"Product ID\", \"Date\"], keep=False)]\n",
    "df[\"Date\"] = pd.to_datetime(df[\"Date\"])\n",
    "df = df.sort_values(['Store ID','Product ID','Date'])\n",
    "df[\"Store-Product ID\"] = df[\"Store ID\"] + \"_\" + df[\"Product ID\"]\n",
    "df = df.rename(columns={\"Store-Product ID\": \"unique_id\", \"Date\": \"ds\", \"Demand\": \"y\"})\n",
    "# Reorder columns: unique_id, ds, y come first\n",
    "cols = ['unique_id', 'ds', 'y'] + [c for c in df.columns if c not in ['unique_id', 'ds', 'y']]\n",
    "df = df[cols]\n",
    "drop_cols = [\n",
    "    \"Store ID\",\n",
    "    \"Product ID\",\n",
    "    \"Category\",\n",
    "    \"Region\",\n",
    "    \"Inventory Level\",\n",
    "    \"Units Sold\",\n",
    "    \"Units Ordered\",\n",
    "\n",
    "]\n",
    "\n",
    "df = df.drop(columns=drop_cols, errors='ignore')\n",
    "df['Weather Condition'] = df['Weather Condition'].map({\n",
    "    'Sunny': 0,\n",
    "    'Cloudy': 1,\n",
    "    'Rainy': 2,\n",
    "    'Snowy': 3\n",
    "})\n",
    "df['Seasonality'] = df['Seasonality'].map({\n",
    "    'Winter': 0,\n",
    "    'Spring': 1,\n",
    "    'Summer': 2,\n",
    "    'Autumn': 3\n",
    "})\n",
    "df.head()"
   ]
  },
  {
   "cell_type": "code",
   "execution_count": 0,
   "metadata": {
    "application/vnd.databricks.v1+cell": {
     "cellMetadata": {},
     "inputWidgets": {},
     "nuid": "1034c0ce-f94a-4009-b85e-14a8d65892b8",
     "showTitle": false,
     "tableResultSettingsMap": {},
     "title": ""
    }
   },
   "outputs": [],
   "source": [
    "df"
   ]
  },
  {
   "cell_type": "code",
   "execution_count": 0,
   "metadata": {
    "application/vnd.databricks.v1+cell": {
     "cellMetadata": {},
     "inputWidgets": {},
     "nuid": "195f1720-aeb0-4e8c-9b4e-cc0c7eda06e1",
     "showTitle": false,
     "tableResultSettingsMap": {},
     "title": ""
    }
   },
   "outputs": [],
   "source": [
    "test = df.groupby(\"unique_id\").tail(7)\n",
    "train = df.drop(test.index).reset_index(drop=True)"
   ]
  },
  {
   "cell_type": "code",
   "execution_count": 0,
   "metadata": {
    "application/vnd.databricks.v1+cell": {
     "cellMetadata": {},
     "inputWidgets": {},
     "nuid": "47c6b034-4bb2-46f9-adc5-474f1e7ff3fc",
     "showTitle": false,
     "tableResultSettingsMap": {},
     "title": ""
    }
   },
   "outputs": [],
   "source": [
    "futr_exog_df = test.drop([\"y\"], axis=1)\n"
   ]
  },
  {
   "cell_type": "code",
   "execution_count": 0,
   "metadata": {
    "application/vnd.databricks.v1+cell": {
     "cellMetadata": {},
     "inputWidgets": {},
     "nuid": "3fc7d22b-3a99-4548-aa57-31ed0a02675c",
     "showTitle": false,
     "tableResultSettingsMap": {},
     "title": ""
    }
   },
   "outputs": [],
   "source": [
    "horizon = 7\n",
    "\n",
    "features = [\n",
    "    partial(fourier, season_length=7, k=2),\n",
    "    partial(time_features, features=[\"day\", \"week\", \"month\"])\n",
    "]\n",
    "\n",
    "exog_df, futr_exog_df = pipeline(\n",
    "    df=df,\n",
    "    features=features,\n",
    "    freq=\"D\",\n",
    "    h=horizon\n",
    ")"
   ]
  },
  {
   "cell_type": "code",
   "execution_count": 0,
   "metadata": {
    "application/vnd.databricks.v1+cell": {
     "cellMetadata": {},
     "inputWidgets": {},
     "nuid": "1e9c61b4-7e92-4fb2-9f13-15996be802d6",
     "showTitle": false,
     "tableResultSettingsMap": {},
     "title": ""
    }
   },
   "outputs": [],
   "source": [
    "models = [\n",
    "    AutoARIMA(season_length=7, alias=\"SARIMA_time_exog\")\n",
    "]\n",
    "\n",
    "metrics = [\n",
    "    mae,\n",
    "    mse, \n",
    "    rmse, \n",
    "    mape, \n",
    "    smape,\n",
    "    partial(mase, seasonality=7),\n",
    "    scaled_crps\n",
    "]\n",
    "\n",
    "sf = StatsForecast(models=models, freq=\"D\", n_jobs=-1)\n",
    "cv_time_exog_df = sf.cross_validation(\n",
    "    h=horizon, # 7 days\n",
    "    df=exog_df,\n",
    "    n_windows=8,\n",
    "    step_size=horizon,\n",
    "    refit=True,\n",
    "    level=[80]\n",
    ")\n",
    "\n",
    "cv_time_exog_eval = evaluate(\n",
    "    cv_time_exog_df.drop([\"cutoff\"], axis=1),\n",
    "    metrics=metrics,\n",
    "    train_df=train,\n",
    "    level=[80]\n",
    ")\n",
    "cv_time_exog_eval = cv_time_exog_eval.drop(['unique_id'], axis=1).groupby('metric').mean().reset_index()\n",
    "cv_time_exog_eval"
   ]
  },
  {
   "cell_type": "code",
   "execution_count": 0,
   "metadata": {
    "application/vnd.databricks.v1+cell": {
     "cellMetadata": {},
     "inputWidgets": {},
     "nuid": "70526937-fff1-4b86-8c54-77677767393c",
     "showTitle": false,
     "tableResultSettingsMap": {},
     "title": ""
    }
   },
   "outputs": [],
   "source": [
    "cv_time_exog_eval = evaluate(\n",
    "    cv_time_exog_df.drop([\"cutoff\"], axis=1),\n",
    "    metrics=metrics,\n",
    "    train_df=train,\n",
    "    level=[80]\n",
    ")\n",
    "cv_time_exog_eval = cv_time_exog_eval.drop(['unique_id'], axis=1).groupby('metric').mean().reset_index()\n",
    "cv_time_exog_eval"
   ]
  },
  {
   "cell_type": "code",
   "execution_count": 0,
   "metadata": {
    "application/vnd.databricks.v1+cell": {
     "cellMetadata": {},
     "inputWidgets": {},
     "nuid": "8a4afae6-fda8-419d-82e2-eb1d8c749b4e",
     "showTitle": false,
     "tableResultSettingsMap": {},
     "title": ""
    }
   },
   "outputs": [],
   "source": [
    "plot_series(\n",
    "    df=df, \n",
    "    forecasts_df=cv_time_exog_df.drop([\"y\", \"cutoff\"], axis=1), \n",
    "    ids=[\"S001_P0001\"], \n",
    "    max_insample_length=140,\n",
    "    level=[80],\n",
    "    palette=\"viridis\"\n",
    ")"
   ]
  }
 ],
 "metadata": {
  "application/vnd.databricks.v1+notebook": {
   "computePreferences": null,
   "dashboards": [],
   "environmentMetadata": null,
   "inputWidgetPreferences": null,
   "language": "python",
   "notebookMetadata": {},
   "notebookName": "03_modeling_ARIMA_ES",
   "widgets": {}
  },
  "kernelspec": {
   "display_name": "venv",
   "language": "python",
   "name": "python3"
  },
  "language_info": {
   "name": "python"
  }
 },
 "nbformat": 4,
 "nbformat_minor": 0
}
