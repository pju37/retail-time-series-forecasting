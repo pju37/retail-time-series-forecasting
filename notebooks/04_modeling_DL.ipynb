{
 "cells": [
  {
   "cell_type": "markdown",
   "metadata": {
    "application/vnd.databricks.v1+cell": {
     "cellMetadata": {},
     "inputWidgets": {},
     "nuid": "c8b97fea-c310-4a29-836e-bbb396dbcc3b",
     "showTitle": false,
     "tableResultSettingsMap": {},
     "title": ""
    }
   },
   "source": [
    "## XGBoost Modeling"
   ]
  },
  {
   "cell_type": "code",
   "execution_count": 0,
   "metadata": {
    "application/vnd.databricks.v1+cell": {
     "cellMetadata": {},
     "inputWidgets": {},
     "nuid": "fa0c5827-f839-4708-b50a-b30137ad79d1",
     "showTitle": false,
     "tableResultSettingsMap": {},
     "title": ""
    }
   },
   "outputs": [],
   "source": [
    "import pandas as pd\n",
    "import numpy as np"
   ]
  },
  {
   "cell_type": "code",
   "execution_count": 0,
   "metadata": {
    "application/vnd.databricks.v1+cell": {
     "cellMetadata": {},
     "inputWidgets": {},
     "nuid": "a13f70b7-9e63-4544-97c3-ca7efb552bb4",
     "showTitle": false,
     "tableResultSettingsMap": {},
     "title": ""
    }
   },
   "outputs": [],
   "source": [
    "# =====================================================\n",
    "# STEP 1: Load and Prepare Base Data\n",
    "# =====================================================\n",
    "data_path = \"/Users/pju307/retail-forecasting/data/sales_data.csv\"\n",
    "df = pd.read_csv(data_path, parse_dates=['Date'])\n",
    "\n",
    "# Create unique ID (Store + Product)\n",
    "df[\"unique_id\"] = df[\"Store ID\"].astype(str) + \"_\" + df[\"Product ID\"].astype(str)\n",
    "\n",
    "# Sort data chronologically per unique_id\n",
    "df = df.sort_values([\"unique_id\", \"Date\"]).reset_index(drop=True)"
   ]
  },
  {
   "cell_type": "code",
   "execution_count": 0,
   "metadata": {
    "application/vnd.databricks.v1+cell": {
     "cellMetadata": {},
     "inputWidgets": {},
     "nuid": "e3b87b03-5473-4aec-9a16-784362627f8d",
     "showTitle": false,
     "tableResultSettingsMap": {},
     "title": ""
    }
   },
   "outputs": [],
   "source": [
    "# =====================================================\n",
    "# STEP 2: Time-Based Features\n",
    "# =====================================================\n",
    "df[\"dayofweek\"] = df[\"Date\"].dt.dayofweek\n",
    "df[\"month\"] = df[\"Date\"].dt.month\n",
    "df[\"is_weekend\"] = df[\"dayofweek\"].isin([5, 6]).astype(int)"
   ]
  },
  {
   "cell_type": "code",
   "execution_count": 0,
   "metadata": {
    "application/vnd.databricks.v1+cell": {
     "cellMetadata": {},
     "inputWidgets": {},
     "nuid": "b5c4224c-0735-484f-8ac2-9fc715606b4c",
     "showTitle": false,
     "tableResultSettingsMap": {},
     "title": ""
    }
   },
   "outputs": [],
   "source": [
    "df"
   ]
  },
  {
   "cell_type": "code",
   "execution_count": 0,
   "metadata": {
    "application/vnd.databricks.v1+cell": {
     "cellMetadata": {},
     "inputWidgets": {},
     "nuid": "3692d45a-3f40-4196-a357-31cc36b7c15f",
     "showTitle": false,
     "tableResultSettingsMap": {},
     "title": ""
    }
   },
   "outputs": [],
   "source": [
    "# =====================================================\n",
    "# STEP 3: Lag Features (Demand memory)\n",
    "# =====================================================\n",
    "for lag in [1, 7, 14, 28]:\n",
    "    df[f\"lag_{lag}\"] = df.groupby(\"unique_id\")[\"Demand\"].shift(lag)\n"
   ]
  },
  {
   "cell_type": "code",
   "execution_count": 0,
   "metadata": {
    "application/vnd.databricks.v1+cell": {
     "cellMetadata": {},
     "inputWidgets": {},
     "nuid": "278d06e0-1baf-4262-bff6-301014e29817",
     "showTitle": false,
     "tableResultSettingsMap": {},
     "title": ""
    }
   },
   "outputs": [],
   "source": [
    "# =====================================================\n",
    "# STEP 4: Rolling Window Statistics\n",
    "# =====================================================\n",
    "for window in [7, 14, 28]:\n",
    "    df[f\"rolling_mean_{window}\"] = (\n",
    "        df.groupby(\"unique_id\")[\"Demand\"].shift(1).rolling(window).mean()\n",
    "    )\n",
    "    df[f\"rolling_std_{window}\"] = (\n",
    "        df.groupby(\"unique_id\")[\"Demand\"].shift(1).rolling(window).std()\n",
    "    )"
   ]
  },
  {
   "cell_type": "code",
   "execution_count": 0,
   "metadata": {
    "application/vnd.databricks.v1+cell": {
     "cellMetadata": {},
     "inputWidgets": {},
     "nuid": "7d68d95d-7fa9-4145-a5b2-49b394e569e2",
     "showTitle": false,
     "tableResultSettingsMap": {},
     "title": ""
    }
   },
   "outputs": [],
   "source": [
    "# =====================================================\n",
    "# STEP 5: Context / Identity Features\n",
    "# =====================================================\n",
    "one_hot_cols = []\n",
    "for col in [\"Weather Condition\", \"Category\", \"Region\", \"Seasonality\"]:\n",
    "    if col in df.columns:\n",
    "        one_hot_cols.append(col)\n",
    "\n",
    "# Perform one-hot encoding with 0/1 integers\n",
    "df = pd.get_dummies(df, columns=one_hot_cols, drop_first=True, dtype=int)"
   ]
  },
  {
   "cell_type": "code",
   "execution_count": 0,
   "metadata": {
    "application/vnd.databricks.v1+cell": {
     "cellMetadata": {},
     "inputWidgets": {},
     "nuid": "c9950c00-7221-4211-92bb-4ffc94e10355",
     "showTitle": false,
     "tableResultSettingsMap": {},
     "title": ""
    }
   },
   "outputs": [],
   "source": [
    "df"
   ]
  },
  {
   "cell_type": "code",
   "execution_count": 0,
   "metadata": {
    "application/vnd.databricks.v1+cell": {
     "cellMetadata": {},
     "inputWidgets": {},
     "nuid": "6636a788-ee6f-4c79-827d-f04ab740beb0",
     "showTitle": false,
     "tableResultSettingsMap": {},
     "title": ""
    }
   },
   "outputs": [],
   "source": [
    "# =====================================================\n",
    "# STEP 6: External/Causal Features\n",
    "# =====================================================\n",
    "keep_features = [\n",
    "    \"Price\", \"Discount\", \"Promotion\", \"Competitor Pricing\",\n",
    "    \"Inventory Level\", \"Units Sold\", \"Units Ordered\",\n",
    "    \"Weather Condition\", \"Seasonality\", \"Epidemic\"\n",
    "]\n",
    "available_features = [f for f in keep_features if f in df.columns]\n",
    "\n",
    "# =====================================================\n",
    "# STEP 7: Drop Raw String Columns (no text in final model)\n",
    "# =====================================================\n",
    "drop_cols = [\"Store ID\", \"Product ID\", \"Category\", \"Region\", \"Weather Condition\", \"Seasonality\"]\n",
    "existing_drop_cols = [col for col in drop_cols if col in df.columns]\n",
    "df = df.drop(columns=existing_drop_cols)"
   ]
  },
  {
   "cell_type": "code",
   "execution_count": 0,
   "metadata": {
    "application/vnd.databricks.v1+cell": {
     "cellMetadata": {},
     "inputWidgets": {},
     "nuid": "93f692f9-3210-46f1-87fb-57387d806ca3",
     "showTitle": false,
     "tableResultSettingsMap": {},
     "title": ""
    }
   },
   "outputs": [],
   "source": [
    "# =====================================================\n",
    "# STEP 8: Drop Rows with NaN (from lag/rolling)\n",
    "# =====================================================\n",
    "df = df.dropna().reset_index(drop=True)"
   ]
  },
  {
   "cell_type": "code",
   "execution_count": 0,
   "metadata": {
    "application/vnd.databricks.v1+cell": {
     "cellMetadata": {},
     "inputWidgets": {},
     "nuid": "66d8d83a-1aa8-490c-a59e-4de371a7da69",
     "showTitle": false,
     "tableResultSettingsMap": {},
     "title": ""
    }
   },
   "outputs": [],
   "source": [
    "# =====================================================\n",
    "# STEP 8: Reorder Columns so unique_id is First\n",
    "# =====================================================\n",
    "cols = df.columns.tolist()\n",
    "\n",
    "# Ensure 'unique_id' is first\n",
    "if \"unique_id\" in cols:\n",
    "    cols.remove(\"unique_id\")\n",
    "    cols = [\"unique_id\"] + cols\n",
    "\n",
    "df = df[cols]"
   ]
  },
  {
   "cell_type": "markdown",
   "metadata": {
    "application/vnd.databricks.v1+cell": {
     "cellMetadata": {},
     "inputWidgets": {},
     "nuid": "3b9277b5-3f8e-4e34-8a0c-b446f73cbc6d",
     "showTitle": false,
     "tableResultSettingsMap": {},
     "title": ""
    }
   },
   "source": [
    "### Modeling"
   ]
  },
  {
   "cell_type": "code",
   "execution_count": 0,
   "metadata": {
    "application/vnd.databricks.v1+cell": {
     "cellMetadata": {},
     "inputWidgets": {},
     "nuid": "b9ffffbe-9b1d-4144-a4d6-deccb6805f09",
     "showTitle": false,
     "tableResultSettingsMap": {},
     "title": ""
    }
   },
   "outputs": [],
   "source": [
    "import pandas as pd\n",
    "import numpy as np\n",
    "import xgboost as xgb\n",
    "import optuna\n",
    "from sklearn.metrics import mean_absolute_error, mean_squared_error, r2_score\n",
    "import matplotlib.pyplot as plt\n",
    "import multiprocessing"
   ]
  },
  {
   "cell_type": "code",
   "execution_count": 0,
   "metadata": {
    "application/vnd.databricks.v1+cell": {
     "cellMetadata": {},
     "inputWidgets": {},
     "nuid": "5b1865d0-e8f6-4dd5-8a27-7830150aeeff",
     "showTitle": false,
     "tableResultSettingsMap": {},
     "title": ""
    }
   },
   "outputs": [],
   "source": [
    "df = df.sort_values([\"unique_id\", \"Date\"]).reset_index(drop=True)\n",
    "\n",
    "target_col = \"Demand\"\n",
    "feature_cols = [col for col in df.columns if col not in [\"unique_id\", \"Date\", target_col]]"
   ]
  },
  {
   "cell_type": "code",
   "execution_count": 0,
   "metadata": {
    "application/vnd.databricks.v1+cell": {
     "cellMetadata": {},
     "inputWidgets": {},
     "nuid": "0e6c2f7e-3562-4756-b499-bee316c0219d",
     "showTitle": false,
     "tableResultSettingsMap": {},
     "title": ""
    }
   },
   "outputs": [],
   "source": [
    "def temporal_train_test_split(df, horizon=7):\n",
    "    train_df = df.groupby(\"unique_id\").apply(lambda x: x.iloc[:-horizon]).reset_index(drop=True)\n",
    "    test_df = df.groupby(\"unique_id\").apply(lambda x: x.iloc[-horizon:]).reset_index(drop=True)\n",
    "    return train_df, test_df\n",
    "\n",
    "train_df, test_df = temporal_train_test_split(df, horizon=7)\n",
    "\n",
    "# Convert to XGBoost DMatrix (faster, memory efficient)\n",
    "dtrain = xgb.DMatrix(train_df[feature_cols], label=train_df[target_col])\n",
    "dvalid = xgb.DMatrix(test_df[feature_cols], label=test_df[target_col])\n"
   ]
  },
  {
   "cell_type": "code",
   "execution_count": 0,
   "metadata": {
    "application/vnd.databricks.v1+cell": {
     "cellMetadata": {},
     "inputWidgets": {},
     "nuid": "e94cdfda-4ede-4529-95ae-8d6e125f7773",
     "showTitle": false,
     "tableResultSettingsMap": {},
     "title": ""
    }
   },
   "outputs": [],
   "source": [
    "def evaluate_forecast(y_true, y_pred, label=\"Validation\"):\n",
    "    mae = mean_absolute_error(y_true, y_pred)\n",
    "    mse = mean_squared_error(y_true, y_pred)\n",
    "    rmse = np.sqrt(mse)\n",
    "    mape = np.mean(np.abs((y_true - y_pred) / np.where(y_true == 0, 1e-10, y_true))) * 100\n",
    "    bias = np.mean(y_pred - y_true)\n",
    "    r2 = r2_score(y_true, y_pred)\n",
    "\n",
    "    print(f\"\\n📊 {label} Metrics\")\n",
    "    print(f\"MAE  = {mae:.2f}\")\n",
    "    print(f\"MSE  = {mse:.2f}\")\n",
    "    print(f\"RMSE = {rmse:.2f}\")\n",
    "    print(f\"MAPE = {mape:.2f}%\")\n",
    "    print(f\"R²   = {r2:.4f}\")\n",
    "    print(f\"Bias = {bias:.2f}\")\n",
    "\n",
    "    return {\"MAE\": mae, \"MSE\": mse, \"RMSE\": rmse, \"MAPE\": mape, \"R2\": r2, \"Bias\": bias}\n"
   ]
  },
  {
   "cell_type": "code",
   "execution_count": 0,
   "metadata": {
    "application/vnd.databricks.v1+cell": {
     "cellMetadata": {},
     "inputWidgets": {},
     "nuid": "080dba69-0e8e-4fc6-94dc-0f714b246265",
     "showTitle": false,
     "tableResultSettingsMap": {},
     "title": ""
    }
   },
   "outputs": [],
   "source": [
    "def objective(trial):\n",
    "    params = {\n",
    "        \"objective\": \"reg:squarederror\",\n",
    "        \"tree_method\": \"hist\",             # fast CPU histogram algorithm\n",
    "        \"nthread\": multiprocessing.cpu_count(),  # utilize all cores\n",
    "        \"learning_rate\": trial.suggest_float(\"learning_rate\", 0.01, 0.3, log=True),\n",
    "        \"max_depth\": trial.suggest_int(\"max_depth\", 4, 12),\n",
    "        \"min_child_weight\": trial.suggest_int(\"min_child_weight\", 1, 10),\n",
    "        \"subsample\": trial.suggest_float(\"subsample\", 0.6, 1.0),\n",
    "        \"colsample_bytree\": trial.suggest_float(\"colsample_bytree\", 0.6, 1.0),\n",
    "        \"lambda\": trial.suggest_float(\"lambda\", 1e-3, 10.0, log=True),\n",
    "        \"alpha\": trial.suggest_float(\"alpha\", 1e-3, 10.0, log=True),\n",
    "        \"gamma\": trial.suggest_float(\"gamma\", 0, 5.0)\n",
    "    }\n",
    "\n",
    "    model = xgb.train(\n",
    "        params,\n",
    "        dtrain,\n",
    "        num_boost_round=500,\n",
    "        evals=[(dtrain, \"train\"), (dvalid, \"valid\")],\n",
    "        early_stopping_rounds=50,\n",
    "        verbose_eval=False\n",
    "    )\n",
    "\n",
    "    preds = model.predict(dvalid)\n",
    "    rmse = np.sqrt(mean_squared_error(test_df[target_col], preds))\n",
    "    return rmse\n",
    "\n",
    "# Run Optuna Study\n",
    "study = optuna.create_study(direction=\"minimize\")\n",
    "study.optimize(objective, n_trials=30, n_jobs=multiprocessing.cpu_count())\n",
    "\n",
    "print(\"\\n✅ Best Hyperparameters:\")\n",
    "print(study.best_params)\n"
   ]
  },
  {
   "cell_type": "code",
   "execution_count": 0,
   "metadata": {
    "application/vnd.databricks.v1+cell": {
     "cellMetadata": {},
     "inputWidgets": {},
     "nuid": "0f6d34cf-5e94-42f4-a8e4-f80720ea56ce",
     "showTitle": false,
     "tableResultSettingsMap": {},
     "title": ""
    }
   },
   "outputs": [],
   "source": [
    "best_params = study.best_params\n",
    "best_params.update({\n",
    "    \"objective\": \"reg:squarederror\",\n",
    "    \"tree_method\": \"hist\",\n",
    "    \"nthread\": multiprocessing.cpu_count(),\n",
    "})\n",
    "\n",
    "model = xgb.train(\n",
    "    best_params,\n",
    "    dtrain,\n",
    "    num_boost_round=1000,\n",
    "    evals=[(dtrain, \"train\"), (dvalid, \"valid\")],\n",
    "    early_stopping_rounds=75,\n",
    "    verbose_eval=100\n",
    ")"
   ]
  },
  {
   "cell_type": "code",
   "execution_count": 0,
   "metadata": {
    "application/vnd.databricks.v1+cell": {
     "cellMetadata": {},
     "inputWidgets": {},
     "nuid": "e9625ac9-e0e4-473f-81cf-54ca3ed0dbcb",
     "showTitle": false,
     "tableResultSettingsMap": {},
     "title": ""
    }
   },
   "outputs": [],
   "source": [
    "train_preds = model.predict(dtrain)\n",
    "val_preds = model.predict(dvalid)\n",
    "\n",
    "train_metrics = evaluate_forecast(train_df[target_col], train_preds, \"Training\")\n",
    "val_metrics = evaluate_forecast(test_df[target_col], val_preds, \"Validation\")\n",
    "\n",
    "metrics_df = pd.DataFrame([train_metrics, val_metrics], index=[\"Training\", \"Validation\"])\n",
    "display(metrics_df)"
   ]
  },
  {
   "cell_type": "code",
   "execution_count": 0,
   "metadata": {
    "application/vnd.databricks.v1+cell": {
     "cellMetadata": {},
     "inputWidgets": {},
     "nuid": "c79a618c-3a2e-44a7-b2fb-26e33fab863b",
     "showTitle": false,
     "tableResultSettingsMap": {},
     "title": ""
    }
   },
   "outputs": [],
   "source": [
    "plt.figure(figsize=(15, 8))\n",
    "plt.suptitle(\"📈 XGBoost Forecasting Dashboard\", fontsize=16, weight=\"bold\")\n",
    "\n",
    "# Training\n",
    "plt.subplot(2, 2, 1)\n",
    "plt.plot(train_df[\"Date\"], train_df[target_col], label=\"Train Actual\", color=\"steelblue\")\n",
    "plt.plot(train_df[\"Date\"], train_preds, label=\"Train Predicted\", color=\"orange\", linestyle=\"--\")\n",
    "plt.title(\"Training: Actual vs Forecast\")\n",
    "plt.legend()\n",
    "\n",
    "# Validation\n",
    "plt.subplot(2, 2, 2)\n",
    "plt.plot(test_df[\"Date\"], test_df[target_col], label=\"Validation Actual\", color=\"steelblue\")\n",
    "plt.plot(test_df[\"Date\"], val_preds, label=\"Validation Predicted\", color=\"orange\", linestyle=\"--\")\n",
    "plt.title(\"Validation: Actual vs Forecast\")\n",
    "plt.legend()\n",
    "\n",
    "# Residuals\n",
    "plt.subplot(2, 1, 2)\n",
    "residuals = train_df[target_col] - train_preds\n",
    "plt.plot(train_df[\"Date\"], residuals, color=\"green\")\n",
    "plt.axhline(0, color=\"black\", linestyle=\"--\")\n",
    "plt.title(\"Training Residuals\")\n",
    "plt.xlabel(\"Date\")\n",
    "\n",
    "plt.tight_layout(rect=[0, 0, 1, 0.97])\n",
    "plt.show()\n"
   ]
  },
  {
   "cell_type": "code",
   "execution_count": 0,
   "metadata": {
    "application/vnd.databricks.v1+cell": {
     "cellMetadata": {},
     "inputWidgets": {},
     "nuid": "975f68ff-1f20-41fb-8226-9154c2beb7c5",
     "showTitle": false,
     "tableResultSettingsMap": {},
     "title": ""
    }
   },
   "outputs": [],
   "source": []
  },
  {
   "cell_type": "code",
   "execution_count": 0,
   "metadata": {
    "application/vnd.databricks.v1+cell": {
     "cellMetadata": {},
     "inputWidgets": {},
     "nuid": "622bb3d3-7ffe-46f4-91b3-924f7a26c0bd",
     "showTitle": false,
     "tableResultSettingsMap": {},
     "title": ""
    }
   },
   "outputs": [],
   "source": []
  },
  {
   "cell_type": "code",
   "execution_count": 0,
   "metadata": {
    "application/vnd.databricks.v1+cell": {
     "cellMetadata": {},
     "inputWidgets": {},
     "nuid": "680956b0-2054-441d-ab47-acc340da7898",
     "showTitle": false,
     "tableResultSettingsMap": {},
     "title": ""
    }
   },
   "outputs": [],
   "source": []
  },
  {
   "cell_type": "code",
   "execution_count": 0,
   "metadata": {
    "application/vnd.databricks.v1+cell": {
     "cellMetadata": {},
     "inputWidgets": {},
     "nuid": "f42a8d95-a023-4c3f-aef6-11538cf5519f",
     "showTitle": false,
     "tableResultSettingsMap": {},
     "title": ""
    }
   },
   "outputs": [],
   "source": []
  },
  {
   "cell_type": "code",
   "execution_count": 0,
   "metadata": {
    "application/vnd.databricks.v1+cell": {
     "cellMetadata": {},
     "inputWidgets": {},
     "nuid": "a30fae8f-9983-474b-bbf9-8bd2896d9f2d",
     "showTitle": false,
     "tableResultSettingsMap": {},
     "title": ""
    }
   },
   "outputs": [],
   "source": []
  },
  {
   "cell_type": "markdown",
   "metadata": {
    "application/vnd.databricks.v1+cell": {
     "cellMetadata": {},
     "inputWidgets": {},
     "nuid": "398a96f8-67b4-4b6a-9cba-d6a0c941e984",
     "showTitle": false,
     "tableResultSettingsMap": {},
     "title": ""
    }
   },
   "source": [
    "## LSTM Modeling"
   ]
  },
  {
   "cell_type": "code",
   "execution_count": 0,
   "metadata": {
    "application/vnd.databricks.v1+cell": {
     "cellMetadata": {},
     "inputWidgets": {},
     "nuid": "2faba4d5-28d1-447a-900f-086eae8eb642",
     "showTitle": false,
     "tableResultSettingsMap": {},
     "title": ""
    }
   },
   "outputs": [],
   "source": []
  },
  {
   "cell_type": "code",
   "execution_count": 0,
   "metadata": {
    "application/vnd.databricks.v1+cell": {
     "cellMetadata": {},
     "inputWidgets": {},
     "nuid": "cff4ec89-9f51-4737-97ec-49a4bfe982c5",
     "showTitle": false,
     "tableResultSettingsMap": {},
     "title": ""
    }
   },
   "outputs": [],
   "source": []
  },
  {
   "cell_type": "code",
   "execution_count": 0,
   "metadata": {
    "application/vnd.databricks.v1+cell": {
     "cellMetadata": {},
     "inputWidgets": {},
     "nuid": "f9798727-51fb-4cee-a521-16c1a55073e7",
     "showTitle": false,
     "tableResultSettingsMap": {},
     "title": ""
    }
   },
   "outputs": [],
   "source": []
  },
  {
   "cell_type": "code",
   "execution_count": 0,
   "metadata": {
    "application/vnd.databricks.v1+cell": {
     "cellMetadata": {},
     "inputWidgets": {},
     "nuid": "de6891c2-77fb-42dc-8129-ffae2a04f650",
     "showTitle": false,
     "tableResultSettingsMap": {},
     "title": ""
    }
   },
   "outputs": [],
   "source": []
  },
  {
   "cell_type": "markdown",
   "metadata": {
    "application/vnd.databricks.v1+cell": {
     "cellMetadata": {},
     "inputWidgets": {},
     "nuid": "b2b6d0d4-c7a5-41d4-83c8-3ca2c790fc14",
     "showTitle": false,
     "tableResultSettingsMap": {},
     "title": ""
    }
   },
   "source": []
  }
 ],
 "metadata": {
  "application/vnd.databricks.v1+notebook": {
   "computePreferences": null,
   "dashboards": [],
   "environmentMetadata": null,
   "inputWidgetPreferences": null,
   "language": "python",
   "notebookMetadata": {},
   "notebookName": "04_modeling_DL",
   "widgets": {}
  },
  "kernelspec": {
   "display_name": "venv",
   "language": "python",
   "name": "python3"
  },
  "language_info": {
   "name": "python"
  }
 },
 "nbformat": 4,
 "nbformat_minor": 0
}
