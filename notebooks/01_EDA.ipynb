{
 "cells": [
  {
   "cell_type": "code",
   "execution_count": 0,
   "metadata": {
    "application/vnd.databricks.v1+cell": {
     "cellMetadata": {
      "byteLimit": 2048000,
      "rowLimit": 10000
     },
     "inputWidgets": {},
     "nuid": "4de00541-2662-4ba4-903f-637809f07bd7",
     "showTitle": false,
     "tableResultSettingsMap": {},
     "title": ""
    }
   },
   "outputs": [],
   "source": [
    "import pandas as pd\n",
    "import numpy as np\n",
    "import matplotlib.pyplot as plt\n",
    "import seaborn as sns\n",
    "from statsforecast import StatsForecast\n",
    "from utilsforecast.losses import mse\n",
    "import warnings\n",
    "warnings.filterwarnings('ignore')\n"
   ]
  },
  {
   "cell_type": "code",
   "execution_count": 0,
   "metadata": {
    "application/vnd.databricks.v1+cell": {
     "cellMetadata": {},
     "inputWidgets": {},
     "nuid": "88a5a050-706f-401a-af76-a254b8bb1e81",
     "showTitle": false,
     "tableResultSettingsMap": {},
     "title": ""
    }
   },
   "outputs": [],
   "source": [
    "# --- Load Data ---\n",
    "data_path = \"/Users/pju307/retail-forecasting/data/sales_data.csv\"\n",
    "df = pd.read_csv(data_path, parse_dates=['Date'])"
   ]
  },
  {
   "cell_type": "code",
   "execution_count": 0,
   "metadata": {
    "application/vnd.databricks.v1+cell": {
     "cellMetadata": {},
     "inputWidgets": {},
     "nuid": "cc76d65a-55a1-40d1-96e2-6a2a703c041c",
     "showTitle": false,
     "tableResultSettingsMap": {},
     "title": ""
    }
   },
   "outputs": [],
   "source": [
    "df.head()"
   ]
  },
  {
   "cell_type": "code",
   "execution_count": 0,
   "metadata": {
    "application/vnd.databricks.v1+cell": {
     "cellMetadata": {},
     "inputWidgets": {},
     "nuid": "b509c7a2-6247-4134-979f-0a8109082063",
     "showTitle": false,
     "tableResultSettingsMap": {},
     "title": ""
    }
   },
   "outputs": [],
   "source": [
    "df = df.sort_values('Date')\n",
    "df = df.dropna(subset=['Demand'])\n",
    "df['Category'] = df['Category'].astype(str)\n",
    "df['Region'] = df['Region'].astype(str)"
   ]
  },
  {
   "cell_type": "code",
   "execution_count": 0,
   "metadata": {
    "application/vnd.databricks.v1+cell": {
     "cellMetadata": {},
     "inputWidgets": {},
     "nuid": "49ac7396-36d6-4310-885f-38ff3d9ac75b",
     "showTitle": false,
     "tableResultSettingsMap": {},
     "title": ""
    }
   },
   "outputs": [],
   "source": [
    "sns.set(style=\"whitegrid\", palette=\"muted\")\n",
    "plt.rcParams[\"figure.figsize\"] = (8,4)\n"
   ]
  },
  {
   "cell_type": "code",
   "execution_count": 0,
   "metadata": {
    "application/vnd.databricks.v1+cell": {
     "cellMetadata": {},
     "inputWidgets": {},
     "nuid": "16dc57ec-7784-4528-b5f7-aceb6c6fe341",
     "showTitle": false,
     "tableResultSettingsMap": {},
     "title": ""
    }
   },
   "outputs": [],
   "source": [
    "plt.figure(figsize=(8,4))\n",
    "sns.barplot(\n",
    "    data=df.groupby('Category', as_index=False)['Demand'].sum().sort_values('Demand', ascending=False),\n",
    "    x='Demand', y='Category', palette='viridis'\n",
    ")\n",
    "plt.title(\"Total Demand by Category\")\n",
    "plt.xlabel(\"Total Demand\")\n",
    "plt.ylabel(\"Category\")\n",
    "plt.show()\n"
   ]
  },
  {
   "cell_type": "code",
   "execution_count": 0,
   "metadata": {
    "application/vnd.databricks.v1+cell": {
     "cellMetadata": {},
     "inputWidgets": {},
     "nuid": "17a940a1-e966-4ef3-98d7-315e69dc6de2",
     "showTitle": false,
     "tableResultSettingsMap": {},
     "title": ""
    }
   },
   "outputs": [],
   "source": [
    "plt.figure(figsize=(8,4))\n",
    "sns.barplot(\n",
    "    data=df.groupby('Region', as_index=False)['Demand'].sum().sort_values('Demand', ascending=False),\n",
    "    x='Demand', y='Region', palette='magma'\n",
    ")\n",
    "plt.title(\"Total Demand by Region\")\n",
    "plt.xlabel(\"Total Demand\")\n",
    "plt.ylabel(\"Region\")\n",
    "plt.show()\n"
   ]
  },
  {
   "cell_type": "code",
   "execution_count": 0,
   "metadata": {
    "application/vnd.databricks.v1+cell": {
     "cellMetadata": {},
     "inputWidgets": {},
     "nuid": "89fc50a7-cd2a-4348-bbcc-1b0c6a9be7f8",
     "showTitle": false,
     "tableResultSettingsMap": {},
     "title": ""
    }
   },
   "outputs": [],
   "source": [
    "plt.figure(figsize=(12,5))\n",
    "plt.plot(df['Date'], df['Demand'], color='orange')\n",
    "plt.title(\"Daily Demand Over Time\")\n",
    "plt.xlabel(\"Date\")\n",
    "plt.ylabel(\"Demand\")\n",
    "plt.show()\n"
   ]
  },
  {
   "cell_type": "code",
   "execution_count": 0,
   "metadata": {
    "application/vnd.databricks.v1+cell": {
     "cellMetadata": {},
     "inputWidgets": {},
     "nuid": "e58f0cc3-b597-4e32-afe1-8067395b8b74",
     "showTitle": false,
     "tableResultSettingsMap": {},
     "title": ""
    }
   },
   "outputs": [],
   "source": [
    "plt.figure(figsize=(6,5))\n",
    "sns.scatterplot(data=df, x='Inventory Level', y='Demand', alpha=0.3, color='gold')\n",
    "plt.title(\"Inventory Level vs Demand\")\n",
    "plt.show()\n"
   ]
  },
  {
   "cell_type": "code",
   "execution_count": 0,
   "metadata": {
    "application/vnd.databricks.v1+cell": {
     "cellMetadata": {},
     "inputWidgets": {},
     "nuid": "234d68aa-0181-4ee3-936a-a5eb6d56440a",
     "showTitle": false,
     "tableResultSettingsMap": {},
     "title": ""
    }
   },
   "outputs": [],
   "source": [
    "plt.figure(figsize=(6,5))\n",
    "sns.boxplot(data=df, x='Promotion', y='Demand', palette='Set2')\n",
    "plt.title(\"Demand Distribution: Promotion vs No Promotion\")\n",
    "plt.xlabel(\"Promotion (0 = No, 1 = Yes)\")\n",
    "plt.show()\n"
   ]
  },
  {
   "cell_type": "code",
   "execution_count": 0,
   "metadata": {
    "application/vnd.databricks.v1+cell": {
     "cellMetadata": {},
     "inputWidgets": {},
     "nuid": "4b438493-be44-44e4-b132-bc3b432b198e",
     "showTitle": false,
     "tableResultSettingsMap": {},
     "title": ""
    }
   },
   "outputs": [],
   "source": [
    "plt.figure(figsize=(6,5))\n",
    "sns.boxplot(data=df, x='Weather Condition', y='Demand', palette='coolwarm')\n",
    "plt.title(\"Demand by Weather Condition\")\n",
    "plt.xlabel(\"Weather Condition\")\n",
    "plt.xticks(rotation=15)\n",
    "plt.show()\n"
   ]
  },
  {
   "cell_type": "code",
   "execution_count": 0,
   "metadata": {
    "application/vnd.databricks.v1+cell": {
     "cellMetadata": {},
     "inputWidgets": {},
     "nuid": "96cea898-b3c4-43f8-9531-50ef7bd710c2",
     "showTitle": false,
     "tableResultSettingsMap": {},
     "title": ""
    }
   },
   "outputs": [],
   "source": [
    "fig, axes = plt.subplots(2, 3, figsize=(18,10))\n",
    "\n",
    "# Total Demand by Category\n",
    "sns.barplot(ax=axes[0,0],\n",
    "    data=df.groupby('Category', as_index=False)['Demand'].sum().sort_values('Demand', ascending=False),\n",
    "    x='Demand', y='Category', palette='viridis')\n",
    "axes[0,0].set_title(\"Total Demand by Category\")\n",
    "\n",
    "# Total Demand by Region\n",
    "sns.barplot(ax=axes[0,1],\n",
    "    data=df.groupby('Region', as_index=False)['Demand'].sum().sort_values('Demand', ascending=False),\n",
    "    x='Demand', y='Region', palette='magma')\n",
    "axes[0,1].set_title(\"Total Demand by Region\")\n",
    "\n",
    "# Daily Demand\n",
    "axes[0,2].plot(df['Date'], df['Demand'], color='orange')\n",
    "axes[0,2].set_title(\"Daily Demand Over Time\")\n",
    "\n",
    "# Inventory vs Demand\n",
    "sns.scatterplot(ax=axes[1,0], data=df, x='Inventory Level', y='Demand', alpha=0.3, color='gold')\n",
    "axes[1,0].set_title(\"Inventory Level vs Demand\")\n",
    "\n",
    "# Promotion vs Demand\n",
    "sns.boxplot(ax=axes[1,1], data=df, x='Promotion', y='Demand', palette='Set2')\n",
    "axes[1,1].set_title(\"Demand Distribution: Promotion vs No Promotion\")\n",
    "\n",
    "# Weather vs Demand\n",
    "sns.boxplot(ax=axes[1,2], data=df, x='Weather Condition', y='Demand', palette='coolwarm')\n",
    "axes[1,2].set_title(\"Demand by Weather Condition\")\n",
    "axes[1,2].tick_params(axis='x', rotation=15)\n",
    "\n",
    "plt.suptitle(\"🛒 Retail Store Inventory & Demand Dashboard\", fontsize=16, fontweight='bold')\n",
    "plt.tight_layout(rect=[0,0,1,0.97])\n",
    "plt.show()\n"
   ]
  },
  {
   "cell_type": "code",
   "execution_count": 0,
   "metadata": {
    "application/vnd.databricks.v1+cell": {
     "cellMetadata": {},
     "inputWidgets": {},
     "nuid": "617c2c1a-9e3b-4065-baea-a7452d9e4c51",
     "showTitle": false,
     "tableResultSettingsMap": {},
     "title": ""
    }
   },
   "outputs": [],
   "source": [
    "top_products = df.groupby('Product ID')['Demand'].mean().nlargest(10)\n",
    "top_products.plot(kind='bar', figsize=(8,4))\n",
    "plt.title(\"Top 10 Products by Average Demand\")\n",
    "plt.ylabel(\"Average Demand\")\n",
    "plt.show()\n"
   ]
  },
  {
   "cell_type": "code",
   "execution_count": 0,
   "metadata": {
    "application/vnd.databricks.v1+cell": {
     "cellMetadata": {},
     "inputWidgets": {},
     "nuid": "cef62936-3c4f-4694-ae6e-e3b75585469e",
     "showTitle": false,
     "tableResultSettingsMap": {},
     "title": ""
    }
   },
   "outputs": [],
   "source": [
    "plt.figure(figsize=(10,5))\n",
    "sns.countplot(data=df, x='Region', hue='Category')\n",
    "plt.title(\"Category Mix by Region\")\n",
    "plt.show()\n"
   ]
  },
  {
   "cell_type": "code",
   "execution_count": 0,
   "metadata": {
    "application/vnd.databricks.v1+cell": {
     "cellMetadata": {},
     "inputWidgets": {},
     "nuid": "e9da2376-fa4f-4688-9ea5-d28f9761904b",
     "showTitle": false,
     "tableResultSettingsMap": {},
     "title": ""
    }
   },
   "outputs": [],
   "source": [
    "plt.figure(figsize=(6,5))\n",
    "sns.scatterplot(data=df, x='Discount', y='Demand', alpha=0.3, color='purple')\n",
    "plt.title(\"Discount vs Demand\")\n",
    "plt.show()\n"
   ]
  },
  {
   "cell_type": "code",
   "execution_count": 0,
   "metadata": {
    "application/vnd.databricks.v1+cell": {
     "cellMetadata": {},
     "inputWidgets": {},
     "nuid": "35a88af3-f257-4c3a-9d6a-5b06ca3899bd",
     "showTitle": false,
     "tableResultSettingsMap": {},
     "title": ""
    }
   },
   "outputs": [],
   "source": [
    "sns.scatterplot(data=df, x='Price', y='Demand', alpha=0.4, color='teal')\n",
    "plt.title(\"Price vs Demand\")\n",
    "plt.show()\n"
   ]
  },
  {
   "cell_type": "code",
   "execution_count": 0,
   "metadata": {
    "application/vnd.databricks.v1+cell": {
     "cellMetadata": {},
     "inputWidgets": {},
     "nuid": "f9c2da44-e274-4ccf-ba9f-d74384011f4d",
     "showTitle": false,
     "tableResultSettingsMap": {},
     "title": ""
    }
   },
   "outputs": [],
   "source": [
    "sns.scatterplot(data=df, x='Competitor Pricing', y='Demand', alpha=0.4, color='crimson')\n",
    "plt.title(\"Competitor Pricing vs Demand\")\n",
    "plt.show()\n"
   ]
  },
  {
   "cell_type": "code",
   "execution_count": 0,
   "metadata": {
    "application/vnd.databricks.v1+cell": {
     "cellMetadata": {},
     "inputWidgets": {},
     "nuid": "16b84a18-1ae1-4888-ac72-40d781a8880f",
     "showTitle": false,
     "tableResultSettingsMap": {},
     "title": ""
    }
   },
   "outputs": [],
   "source": [
    "df.groupby('Weather Condition')['Demand'].mean().sort_values().plot(kind='bar', figsize=(8,4))\n",
    "plt.title(\"Average Demand by Weather Condition\")\n",
    "plt.ylabel(\"Mean Demand\")\n",
    "plt.show()\n"
   ]
  },
  {
   "cell_type": "code",
   "execution_count": 0,
   "metadata": {
    "application/vnd.databricks.v1+cell": {
     "cellMetadata": {},
     "inputWidgets": {},
     "nuid": "de8b0ab3-937f-45f4-95e7-6a1ee83b768a",
     "showTitle": false,
     "tableResultSettingsMap": {},
     "title": ""
    }
   },
   "outputs": [],
   "source": [
    "sns.boxplot(data=df, x='Epidemic', y='Demand')\n",
    "plt.title(\"Demand Distribution During Epidemic vs Normal Times\")\n",
    "plt.show()\n"
   ]
  },
  {
   "cell_type": "code",
   "execution_count": 0,
   "metadata": {
    "application/vnd.databricks.v1+cell": {
     "cellMetadata": {},
     "inputWidgets": {},
     "nuid": "c900f0ee-c9b5-4223-a9cb-2b1c7014a1a7",
     "showTitle": false,
     "tableResultSettingsMap": {},
     "title": ""
    }
   },
   "outputs": [],
   "source": [
    "df['Inventory_Utilization'] = df['Units Sold'] / (df['Inventory Level'] + 1)\n",
    "sns.histplot(df['Inventory_Utilization'], bins=30, color='orange')\n",
    "plt.title(\"Inventory Utilization Ratio Distribution\")\n",
    "plt.show()\n"
   ]
  },
  {
   "cell_type": "code",
   "execution_count": 0,
   "metadata": {
    "application/vnd.databricks.v1+cell": {
     "cellMetadata": {},
     "inputWidgets": {},
     "nuid": "0efe0541-f451-4f93-8c91-b632dbb47aa6",
     "showTitle": false,
     "tableResultSettingsMap": {},
     "title": ""
    }
   },
   "outputs": [],
   "source": [
    "sns.scatterplot(data=df, x='Inventory Level', y='Units Ordered', alpha=0.3)\n",
    "plt.title(\"Inventory Level vs Units Ordered\")\n",
    "plt.show()"
   ]
  },
  {
   "cell_type": "code",
   "execution_count": 0,
   "metadata": {
    "application/vnd.databricks.v1+cell": {
     "cellMetadata": {},
     "inputWidgets": {},
     "nuid": "272c44b7-035f-47ca-8a35-a55998d6a3d6",
     "showTitle": false,
     "tableResultSettingsMap": {},
     "title": ""
    }
   },
   "outputs": [],
   "source": [
    "num_cols = ['Demand','Inventory Level','Units Sold','Units Ordered','Price','Discount','Competitor Pricing']\n",
    "corr = df[num_cols].corr()\n",
    "plt.figure(figsize=(8,6))\n",
    "sns.heatmap(corr, annot=True, cmap='coolwarm')\n",
    "plt.title(\"Feature Correlation Heatmap\")\n",
    "plt.show()"
   ]
  },
  {
   "cell_type": "code",
   "execution_count": 0,
   "metadata": {
    "application/vnd.databricks.v1+cell": {
     "cellMetadata": {},
     "inputWidgets": {},
     "nuid": "b7fc27b6-15dc-4dca-9cbf-8245ee9146ff",
     "showTitle": false,
     "tableResultSettingsMap": {},
     "title": ""
    }
   },
   "outputs": [],
   "source": [
    "sns.pairplot(df[['Demand','Price','Discount','Inventory Level','Competitor Pricing']], diag_kind='kde')\n",
    "plt.suptitle(\"Pairwise Relationships\", y=1.02)\n",
    "plt.show()\n"
   ]
  },
  {
   "cell_type": "code",
   "execution_count": 0,
   "metadata": {
    "application/vnd.databricks.v1+cell": {
     "cellMetadata": {},
     "inputWidgets": {},
     "nuid": "60179fc1-4338-47dc-94a5-ef30bab6f82f",
     "showTitle": false,
     "tableResultSettingsMap": {},
     "title": ""
    }
   },
   "outputs": [],
   "source": [
    "from pandas.plotting import autocorrelation_plot\n",
    "autocorrelation_plot(df['Demand'])\n",
    "plt.title(\"Autocorrelation of Demand\")\n",
    "plt.show()"
   ]
  },
  {
   "cell_type": "code",
   "execution_count": 0,
   "metadata": {
    "application/vnd.databricks.v1+cell": {
     "cellMetadata": {},
     "inputWidgets": {},
     "nuid": "ca8affd8-78e7-42d1-a5a4-5c37258ac083",
     "showTitle": false,
     "tableResultSettingsMap": {},
     "title": ""
    }
   },
   "outputs": [],
   "source": [
    "df['rolling_7'] = df['Demand'].rolling(7).mean()\n",
    "plt.figure(figsize=(12,4))\n",
    "plt.plot(df['Date'], df['Demand'], alpha=0.4, label='Daily Demand')\n",
    "plt.plot(df['Date'], df['rolling_7'], color='red', label='7-Day Rolling Average')\n",
    "plt.title(\"Demand Trend with 7-Day Rolling Mean\")\n",
    "plt.legend()\n",
    "plt.show()"
   ]
  },
  {
   "cell_type": "code",
   "execution_count": 0,
   "metadata": {
    "application/vnd.databricks.v1+cell": {
     "cellMetadata": {},
     "inputWidgets": {},
     "nuid": "76a24059-9557-4842-b68c-a044f0973bf1",
     "showTitle": false,
     "tableResultSettingsMap": {},
     "title": ""
    }
   },
   "outputs": [],
   "source": []
  }
 ],
 "metadata": {
  "application/vnd.databricks.v1+notebook": {
   "computePreferences": {
    "hardware": {
     "accelerator": null,
     "gpuPoolId": null,
     "memory": "STANDARD"
    }
   },
   "dashboards": [],
   "environmentMetadata": {
    "base_environment": "",
    "environment_version": "2"
   },
   "inputWidgetPreferences": null,
   "language": "python",
   "notebookMetadata": {
    "pythonIndentUnit": 4
   },
   "notebookName": "01_EDA",
   "widgets": {}
  },
  "kernelspec": {
   "display_name": "venv",
   "language": "python",
   "name": "python3"
  },
  "language_info": {
   "name": "python"
  }
 },
 "nbformat": 4,
 "nbformat_minor": 0
}
